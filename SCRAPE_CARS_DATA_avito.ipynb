{
 "cells": [
  {
   "cell_type": "markdown",
   "metadata": {},
   "source": [
    "## Cars in all RUSSIA\n",
    "- a good guide on scraping data with Beautiful SOup https://www.youtube.com/watch?v=eN_3d4JrL_w&t=201s\n",
    "- Data was scraped from avito, Region - entire Russia, any car brand, price 450 000 -1m\n",
    "- Date November 2021"
   ]
  },
  {
   "cell_type": "code",
   "execution_count": 1,
   "metadata": {},
   "outputs": [],
   "source": [
    "import csv\n",
    "import pandas as pd\n",
    "from datetime import datetime\n",
    "from bs4 import BeautifulSoup as bs\n",
    "from selenium import webdriver\n",
    "import requests\n",
    "\n",
    "from time import sleep"
   ]
  },
  {
   "cell_type": "markdown",
   "metadata": {},
   "source": [
    "# PROTOTYPE"
   ]
  },
  {
   "cell_type": "markdown",
   "metadata": {},
   "source": [
    "## get url"
   ]
  },
  {
   "cell_type": "code",
   "execution_count": 2,
   "metadata": {},
   "outputs": [],
   "source": [
    "def get_url (page):\n",
    "    ## Intitial settings on avito.ru , cars, ALL RUSSIA 450000 1m, except damaged\n",
    "    templ ='https://www.avito.ru/rossiya/avtomobili?f=ASgBAgECAUTyCrCKAQFFxpoMHHsiZnJvbSI6NDUwMDAwLCJ0byI6MTAwMDAwMH0&p={}'\n",
    "    url = templ.format(page) \n",
    "\n",
    "    return url"
   ]
  },
  {
   "cell_type": "code",
   "execution_count": 3,
   "metadata": {},
   "outputs": [],
   "source": [
    "url = get_url (0)"
   ]
  },
  {
   "cell_type": "code",
   "execution_count": 4,
   "metadata": {},
   "outputs": [
    {
     "data": {
      "text/plain": [
       "'https://www.avito.ru/rossiya/avtomobili?f=ASgBAgECAUTyCrCKAQFFxpoMHHsiZnJvbSI6NDUwMDAwLCJ0byI6MTAwMDAwMH0&p=0'"
      ]
     },
     "execution_count": 4,
     "metadata": {},
     "output_type": "execute_result"
    }
   ],
   "source": [
    "url"
   ]
  },
  {
   "cell_type": "markdown",
   "metadata": {},
   "source": [
    "## Extract raw html"
   ]
  },
  {
   "cell_type": "code",
   "execution_count": 5,
   "metadata": {},
   "outputs": [],
   "source": [
    "headers = {'User-Agent':'Mozilla/5.0 (X11; Linux x86_64) AppleWebKit/537.36 (KHTML, like Gecko) Chrome/96.0.4664.45 Safari/537.36'}\n",
    "r = requests.get(url, headers)\n",
    "soup = bs(r.content, 'html.parser')"
   ]
  },
  {
   "cell_type": "code",
   "execution_count": 6,
   "metadata": {},
   "outputs": [
    {
     "data": {
      "text/plain": [
       "<Response [200]>"
      ]
     },
     "execution_count": 6,
     "metadata": {},
     "output_type": "execute_result"
    }
   ],
   "source": [
    "## Resposne 200 is good\n",
    "r"
   ]
  },
  {
   "cell_type": "code",
   "execution_count": 7,
   "metadata": {},
   "outputs": [],
   "source": [
    "cars = soup.find_all('div', {'data-marker': 'item'})"
   ]
  },
  {
   "cell_type": "code",
   "execution_count": 8,
   "metadata": {},
   "outputs": [
    {
     "data": {
      "text/plain": [
       "56"
      ]
     },
     "execution_count": 8,
     "metadata": {},
     "output_type": "execute_result"
    }
   ],
   "source": [
    "len(cars)"
   ]
  },
  {
   "cell_type": "code",
   "execution_count": 11,
   "metadata": {},
   "outputs": [
    {
     "data": {
      "text/plain": [
       "<Response [404]>"
      ]
     },
     "execution_count": 11,
     "metadata": {},
     "output_type": "execute_result"
    }
   ],
   "source": [
    "## Example of a bad response\n",
    "rr = requests.get('http://httpbin.org/status/404')\n",
    "rr"
   ]
  },
  {
   "cell_type": "markdown",
   "metadata": {},
   "source": [
    "## Prototype for a single record"
   ]
  },
  {
   "cell_type": "code",
   "execution_count": 12,
   "metadata": {},
   "outputs": [],
   "source": [
    "car = cars[2]"
   ]
  },
  {
   "cell_type": "code",
   "execution_count": 13,
   "metadata": {},
   "outputs": [
    {
     "data": {
      "text/plain": [
       "'Ford Focus, 2012'"
      ]
     },
     "execution_count": 13,
     "metadata": {},
     "output_type": "execute_result"
    }
   ],
   "source": [
    "car_brand = car.find('div', class_ = 'iva-item-titleStep-_CxvN').text\n",
    "car_brand"
   ]
  },
  {
   "cell_type": "code",
   "execution_count": 14,
   "metadata": {},
   "outputs": [
    {
     "data": {
      "text/plain": [
       "'950 000 ₽'"
      ]
     },
     "execution_count": 14,
     "metadata": {},
     "output_type": "execute_result"
    }
   ],
   "source": [
    "# \\xa is \"NO-BREAK SPACE\".\n",
    "car_price = car.find('span', class_ = 'price-price-BQkOZ').text.strip()\n",
    "car_price =  car_price.replace(u'\\xa0', ' ')\n",
    "car_price"
   ]
  },
  {
   "cell_type": "code",
   "execution_count": 15,
   "metadata": {},
   "outputs": [
    {
     "data": {
      "text/plain": [
       "'/moskva/avtomobili/ford_focus_2012_2290444814'"
      ]
     },
     "execution_count": 15,
     "metadata": {},
     "output_type": "execute_result"
    }
   ],
   "source": [
    "car_url = car.div.a.get('href')\n",
    "car_url"
   ]
  },
  {
   "cell_type": "code",
   "execution_count": 116,
   "metadata": {},
   "outputs": [
    {
     "data": {
      "text/plain": [
       "'140 000 км, 1.9 AMT (105 л.с.), универсал, передний, дизель'"
      ]
     },
     "execution_count": 116,
     "metadata": {},
     "output_type": "execute_result"
    }
   ],
   "source": [
    "car_details = car.find('div', class_ = 'iva-item-text-_s_vh text-text-LurtD text-size-s-BxGpL').text.strip()\n",
    "car_details"
   ]
  },
  {
   "cell_type": "code",
   "execution_count": 117,
   "metadata": {},
   "outputs": [
    {
     "data": {
      "text/plain": [
       "'Выгодные предложения от автосалона «Голд Авто»: \\n\\n1. Кредит от 4,9% годовых на все марки авто, за исключением: на марку Lada от 1%*.\\n\\n2. Государственные программы кредитования «Первый автомобиль» и «Семейный автомобиль»*.\\n\\n3. Наслаждайтесь новым авто в полной мере! При покупке авто в кредит оплатим первые два месяца за Вас*.\\n\\n4. Trade-IN с выгодой до 100 000 руб. \\n\\n5. Всем покупателям комплект зимних шин в подарок*.\\n\\n* Банк-партнер: Пао Банк Втб. Генеральная лицензия ЦБ РФ № 1000 от 08.07.2015 г. Ставка по кредиту зависит от выбранной марки автомобиля: на автомобили Lada 1%, остальные марки 4,9%. Доступная сумма кредита от 30 000 до 3 000 000 руб. Первоначальный взнос по кредиту до 60%. Срок кредита от 12 мес. до 7 лет. \\n\\nСумма ежемесячного платежа для всех марок авто, кроме Лада, от 423 руб. до 256 685 руб., без комиссий. Для автомобилей марки Лада сумма ежемесячного платежа от 370 руб. до 251 356,23 руб., без комиссий. \\n\\n* Количество подарков ограничено. За дополнительной информацией обращайтесь к менеджерам автосалона. \\n\\n— Центральный замок.\\n— Иммобилайзер.\\n— Aux.\\n— Usb.\\n— Бортовой компьютер.\\n— Антиблокировочная система (Abs).\\n— Система стабилизации (Esp).\\n— Рейлинги на крыше.\\n— Обогрев зеркал.\\n— Обогрев сидений.\\n— Электропривод зеркал.\\n— Электрозеркала.\\n— Блокировка замков задних дверей.\\n— Охранная система.\\n— Электрообогрев (Боковых зеркал).\\n— Тип дисков (Легкосплавные).\\n— Сигнализация (Сигнализация с обратной связью).\\n— Аудиосистема (Аудиосистема).\\n— Количество мест (Количество мест: 5).\\n— Материал салона (ткань).\\n— Цвет салона (темный).\\n— Рег-ка сиденья водителя (по высоте).\\n— Подогрев сидений (Передних сидений).\\n— Электростеклоподъемники (все).\\n— Кондиционер (да).\\n— Усилитель руля (Усилитель руля).\\n— Регулировка руля (По высоте).\\n— Усилитель рулевого управления (электро).\\n— Подушки безопасности (фронтальные).\\n— Система крепления Isofix (Задний ряд).\\n— Запасное колесо (Полноразмерное).'"
      ]
     },
     "execution_count": 117,
     "metadata": {},
     "output_type": "execute_result"
    }
   ],
   "source": [
    "car_description = car.find('div', class_ = 'iva-item-descriptionStep-QGE8Y').text.strip()\n",
    "car_description"
   ]
  },
  {
   "cell_type": "code",
   "execution_count": 118,
   "metadata": {},
   "outputs": [
    {
     "data": {
      "text/plain": [
       "'Челябинская область, Челябинск'"
      ]
     },
     "execution_count": 118,
     "metadata": {},
     "output_type": "execute_result"
    }
   ],
   "source": [
    "car_location = car.find('div', class_ = 'geo-root-H3eWU iva-item-geo-g3iIJ').text.strip()\n",
    "car_location"
   ]
  },
  {
   "cell_type": "code",
   "execution_count": 119,
   "metadata": {},
   "outputs": [
    {
     "data": {
      "text/plain": [
       "'Несколько секунд назад'"
      ]
     },
     "execution_count": 119,
     "metadata": {},
     "output_type": "execute_result"
    }
   ],
   "source": [
    "ad_date = car.find('div', \n",
    "    class_ = 'date-text-VwmJG text-text-LurtD text-size-s-BxGpL text-color-noaccent-P1Rfs').text.strip()\n",
    "ad_date"
   ]
  },
  {
   "cell_type": "code",
   "execution_count": 121,
   "metadata": {},
   "outputs": [
    {
     "data": {
      "text/plain": [
       "'Голд Авто'"
      ]
     },
     "execution_count": 121,
     "metadata": {},
     "output_type": "execute_result"
    }
   ],
   "source": [
    "car_dealer = car.find('div', \n",
    "    class_ = 'iva-item-text-_s_vh iva-item-hideWide-oLeJu text-text-LurtD text-size-s-BxGpL').text.strip()\n",
    "car_dealer"
   ]
  },
  {
   "cell_type": "code",
   "execution_count": 100,
   "metadata": {},
   "outputs": [],
   "source": [
    "today = datetime.today().strftime('%Y-%m-%d')"
   ]
  },
  {
   "cell_type": "code",
   "execution_count": null,
   "metadata": {},
   "outputs": [],
   "source": []
  },
  {
   "cell_type": "markdown",
   "metadata": {},
   "source": [
    "# GENERALIZE WITH A FUNCTION\n",
    "- sleep, essential , otherwise get blocked"
   ]
  },
  {
   "cell_type": "code",
   "execution_count": 5,
   "metadata": {},
   "outputs": [],
   "source": [
    "def get_url (page):\n",
    "    ## cars, ALL RUSSIA 450000 1m, except damaged\n",
    "    templ ='https://www.avito.ru/rossiya/avtomobili?f=ASgBAgECAUTyCrCKAQFFxpoMHHsiZnJvbSI6NDUwMDAwLCJ0byI6MTAwMDAwMH0&p={}'\n",
    "    url = templ.format(page) \n",
    "\n",
    "    return url"
   ]
  },
  {
   "cell_type": "code",
   "execution_count": 2,
   "metadata": {},
   "outputs": [
    {
     "data": {
      "text/plain": [
       "'https://www.avito.ru/moskva/kvartiry/prodam/novostroyka-ASgBAQICAUSSA8YQAUDmBxSOUg?cd=1&f=ASgBAQECAUSSA8YQAUDmBxSOUgFFxpoMHnsiZnJvbSI6NDAwMDAwMCwidG8iOjM1MDAwMDAwfQ&p=99'"
      ]
     },
     "execution_count": 2,
     "metadata": {},
     "output_type": "execute_result"
    }
   ],
   "source": [
    "get_url (99)"
   ]
  },
  {
   "cell_type": "code",
   "execution_count": 124,
   "metadata": {},
   "outputs": [],
   "source": [
    "import csv\n",
    "import pandas as pd\n",
    "from datetime import datetime\n",
    "from bs4 import BeautifulSoup as bs\n",
    "import requests\n",
    "\n",
    "from time import sleep\n",
    "\n",
    "\n",
    "def get_car(car): ## Extract car data for a single car\n",
    "    \n",
    "    try:\n",
    "        car_brand = car.find('div', class_ = 'iva-item-titleStep-_CxvN').text\n",
    "    except AttributeError:\n",
    "        car_brand = ''\n",
    "    try:\n",
    "        car_price = car.find('span', class_ = 'price-price-BQkOZ').text.strip()\n",
    "        car_price =  car_price.replace(u'\\xa0', ' ')\n",
    "    except AttributeError:\n",
    "        car_price = ''\n",
    "    try:\n",
    "        url = car.div.a.get('href')\n",
    "        car_url = 'https://www.avito.ru/' + url\n",
    "    except AttributeError:\n",
    "        car_url = ''\n",
    "    try:\n",
    "        car_details = car.find('div', class_ = 'iva-item-text-_s_vh text-text-LurtD text-size-s-BxGpL').text.strip()\n",
    "    except AttributeError:\n",
    "        car_details = ''\n",
    "    try:\n",
    "        car_location = car.find('div', class_ = 'geo-root-H3eWU iva-item-geo-g3iIJ').text.strip()\n",
    "    except AttributeError:\n",
    "        car_location = ''\n",
    "    try:\n",
    "        car_dealer = car.find('div',class_ = 'iva-item-text-_s_vh iva-item-hideWide-oLeJu text-text-LurtD text-size-s-BxGpL').text.strip()\n",
    "    except AttributeError:\n",
    "        car_dealer = ''\n",
    "    try:\n",
    "        car_description = car.find('div', class_ = 'iva-item-descriptionStep-QGE8Y').text.strip()\n",
    "    except AttributeError:\n",
    "        car_description = ''\n",
    "        \n",
    "    today = datetime.today().strftime('%Y-%m-%d')\n",
    "    try:\n",
    "        ad_date = car.find('div', \n",
    "        class_ = 'date-text-VwmJG text-text-LurtD text-size-s-BxGpL text-color-noaccent-P1Rfs').text.strip()\n",
    "    except AttributeError:\n",
    "        ad_date = ''\n",
    "        \n",
    "    \n",
    "    record = (car_brand,car_price,car_location, car_details, ad_date, car_dealer, car_description, today, car_url)\n",
    "    \n",
    "    return record\n",
    "    \n",
    "\n",
    "## Main working function    \n",
    "def main():\n",
    "    records = []\n",
    "    headers = {'User-Agent':'Mozilla/5.0 (X11; Linux x86_64) AppleWebKit/537.36 (KHTML, like Gecko) Chrome/96.0.4664.45 Safari/537.36'}\n",
    "    \n",
    "    #for page in range (0,101): ## Currently avito allows 100 pages max\n",
    "    for page in range (0,101):\n",
    "        url = get_url (page)\n",
    "        r = requests.get(url, headers)\n",
    "\n",
    "        if r: # A visual output durig scrapeing, otheriwise if else can be avoided\n",
    "            print ('success getting r', page)\n",
    "            soup = bs(r.content, 'html.parser')\n",
    "            cars = soup.find_all('div', {'data-marker': 'item'})\n",
    "            print ('found', ' ', len(cars), 'cars', ' ', 'from page', page)\n",
    "            \n",
    "            for car in cars:\n",
    "                record = get_car(car)\n",
    "                records.append(record)\n",
    "            sleep (7)\n",
    "        else:\n",
    "            print ('Bad r', page)\n",
    "       \n",
    "            \n",
    "    ## Save Data\n",
    "    with open('file_name', 'w', newline='', encoding='utf-8') as f:\n",
    "        writer = csv.writer(f)\n",
    "        writer.writerow(['car_brand','car_price','car_location', 'car_details', 'ad_date',\n",
    "                         'car_dealer', 'car_description', 'today', 'car_url'])\n",
    "        writer.writerows (records)\n",
    "    \n",
    "    "
   ]
  },
  {
   "cell_type": "code",
   "execution_count": 125,
   "metadata": {},
   "outputs": [
    {
     "name": "stdout",
     "output_type": "stream",
     "text": [
      "success getting r 0\n",
      "found   56 cars   from page 0\n",
      "success getting r 1\n",
      "found   56 cars   from page 1\n",
      "success getting r 2\n",
      "found   56 cars   from page 2\n",
      "success getting r 3\n",
      "found   56 cars   from page 3\n",
      "success getting r 4\n",
      "found   56 cars   from page 4\n",
      "success getting r 5\n",
      "found   56 cars   from page 5\n",
      "success getting r 6\n",
      "found   56 cars   from page 6\n",
      "success getting r 7\n",
      "found   56 cars   from page 7\n",
      "success getting r 8\n",
      "found   56 cars   from page 8\n",
      "success getting r 9\n",
      "found   56 cars   from page 9\n",
      "success getting r 10\n",
      "found   56 cars   from page 10\n",
      "success getting r 11\n",
      "found   56 cars   from page 11\n",
      "success getting r 12\n",
      "found   56 cars   from page 12\n",
      "success getting r 13\n",
      "found   56 cars   from page 13\n",
      "success getting r 14\n",
      "found   56 cars   from page 14\n",
      "success getting r 15\n",
      "found   56 cars   from page 15\n",
      "success getting r 16\n",
      "found   56 cars   from page 16\n",
      "success getting r 17\n",
      "found   56 cars   from page 17\n",
      "success getting r 18\n",
      "found   56 cars   from page 18\n",
      "success getting r 19\n",
      "found   56 cars   from page 19\n",
      "success getting r 20\n",
      "found   56 cars   from page 20\n",
      "success getting r 21\n",
      "found   56 cars   from page 21\n",
      "success getting r 22\n",
      "found   56 cars   from page 22\n",
      "success getting r 23\n",
      "found   56 cars   from page 23\n",
      "success getting r 24\n",
      "found   56 cars   from page 24\n",
      "success getting r 25\n",
      "found   56 cars   from page 25\n",
      "success getting r 26\n",
      "found   56 cars   from page 26\n",
      "success getting r 27\n",
      "found   56 cars   from page 27\n",
      "success getting r 28\n",
      "found   56 cars   from page 28\n",
      "success getting r 29\n",
      "found   56 cars   from page 29\n",
      "success getting r 30\n",
      "found   56 cars   from page 30\n",
      "success getting r 31\n",
      "found   56 cars   from page 31\n",
      "success getting r 32\n",
      "found   56 cars   from page 32\n",
      "success getting r 33\n",
      "found   56 cars   from page 33\n",
      "success getting r 34\n",
      "found   56 cars   from page 34\n",
      "success getting r 35\n",
      "found   56 cars   from page 35\n",
      "success getting r 36\n",
      "found   56 cars   from page 36\n",
      "success getting r 37\n",
      "found   56 cars   from page 37\n",
      "success getting r 38\n",
      "found   56 cars   from page 38\n",
      "success getting r 39\n",
      "found   56 cars   from page 39\n",
      "success getting r 40\n",
      "found   56 cars   from page 40\n",
      "success getting r 41\n",
      "found   56 cars   from page 41\n",
      "success getting r 42\n",
      "found   56 cars   from page 42\n",
      "success getting r 43\n",
      "found   56 cars   from page 43\n",
      "success getting r 44\n",
      "found   56 cars   from page 44\n",
      "success getting r 45\n",
      "found   56 cars   from page 45\n",
      "success getting r 46\n",
      "found   56 cars   from page 46\n",
      "success getting r 47\n",
      "found   56 cars   from page 47\n",
      "success getting r 48\n",
      "found   56 cars   from page 48\n",
      "success getting r 49\n",
      "found   56 cars   from page 49\n",
      "success getting r 50\n",
      "found   56 cars   from page 50\n",
      "success getting r 51\n",
      "found   56 cars   from page 51\n",
      "success getting r 52\n",
      "found   56 cars   from page 52\n",
      "success getting r 53\n",
      "found   56 cars   from page 53\n",
      "success getting r 54\n",
      "found   56 cars   from page 54\n",
      "success getting r 55\n",
      "found   56 cars   from page 55\n",
      "success getting r 56\n",
      "found   56 cars   from page 56\n",
      "success getting r 57\n",
      "found   56 cars   from page 57\n",
      "success getting r 58\n",
      "found   56 cars   from page 58\n",
      "success getting r 59\n",
      "found   56 cars   from page 59\n",
      "success getting r 60\n",
      "found   56 cars   from page 60\n",
      "success getting r 61\n",
      "found   56 cars   from page 61\n",
      "success getting r 62\n",
      "found   56 cars   from page 62\n",
      "success getting r 63\n",
      "found   56 cars   from page 63\n",
      "success getting r 64\n",
      "found   56 cars   from page 64\n",
      "success getting r 65\n",
      "found   56 cars   from page 65\n",
      "success getting r 66\n",
      "found   56 cars   from page 66\n",
      "success getting r 67\n",
      "found   56 cars   from page 67\n",
      "success getting r 68\n",
      "found   56 cars   from page 68\n",
      "success getting r 69\n",
      "found   56 cars   from page 69\n",
      "success getting r 70\n",
      "found   56 cars   from page 70\n",
      "success getting r 71\n",
      "found   56 cars   from page 71\n",
      "success getting r 72\n",
      "found   56 cars   from page 72\n",
      "success getting r 73\n",
      "found   56 cars   from page 73\n",
      "success getting r 74\n",
      "found   56 cars   from page 74\n",
      "success getting r 75\n",
      "found   56 cars   from page 75\n",
      "success getting r 76\n",
      "found   56 cars   from page 76\n",
      "success getting r 77\n",
      "found   56 cars   from page 77\n",
      "success getting r 78\n",
      "found   56 cars   from page 78\n",
      "success getting r 79\n",
      "found   56 cars   from page 79\n",
      "success getting r 80\n",
      "found   56 cars   from page 80\n",
      "success getting r 81\n",
      "found   56 cars   from page 81\n",
      "success getting r 82\n",
      "found   56 cars   from page 82\n",
      "success getting r 83\n",
      "found   56 cars   from page 83\n",
      "success getting r 84\n",
      "found   56 cars   from page 84\n",
      "success getting r 85\n",
      "found   56 cars   from page 85\n",
      "success getting r 86\n",
      "found   56 cars   from page 86\n",
      "success getting r 87\n",
      "found   56 cars   from page 87\n",
      "success getting r 88\n",
      "found   56 cars   from page 88\n",
      "success getting r 89\n",
      "found   56 cars   from page 89\n",
      "success getting r 90\n",
      "found   56 cars   from page 90\n",
      "success getting r 91\n",
      "found   56 cars   from page 91\n",
      "success getting r 92\n",
      "found   56 cars   from page 92\n",
      "success getting r 93\n",
      "found   56 cars   from page 93\n",
      "success getting r 94\n",
      "found   56 cars   from page 94\n",
      "success getting r 95\n",
      "found   56 cars   from page 95\n",
      "success getting r 96\n",
      "found   56 cars   from page 96\n",
      "success getting r 97\n",
      "found   56 cars   from page 97\n",
      "success getting r 98\n",
      "found   56 cars   from page 98\n",
      "success getting r 99\n",
      "found   56 cars   from page 99\n",
      "success getting r 100\n",
      "found   56 cars   from page 100\n"
     ]
    }
   ],
   "source": [
    "main()"
   ]
  },
  {
   "cell_type": "code",
   "execution_count": 126,
   "metadata": {
    "scrolled": true
   },
   "outputs": [
    {
     "data": {
      "text/html": [
       "<div>\n",
       "<style scoped>\n",
       "    .dataframe tbody tr th:only-of-type {\n",
       "        vertical-align: middle;\n",
       "    }\n",
       "\n",
       "    .dataframe tbody tr th {\n",
       "        vertical-align: top;\n",
       "    }\n",
       "\n",
       "    .dataframe thead th {\n",
       "        text-align: right;\n",
       "    }\n",
       "</style>\n",
       "<table border=\"1\" class=\"dataframe\">\n",
       "  <thead>\n",
       "    <tr style=\"text-align: right;\">\n",
       "      <th></th>\n",
       "      <th>car_brand</th>\n",
       "      <th>car_price</th>\n",
       "      <th>car_location</th>\n",
       "      <th>car_details</th>\n",
       "      <th>ad_date</th>\n",
       "      <th>car_dealer</th>\n",
       "      <th>car_description</th>\n",
       "      <th>today</th>\n",
       "      <th>car_url</th>\n",
       "    </tr>\n",
       "  </thead>\n",
       "  <tbody>\n",
       "    <tr>\n",
       "      <th>0</th>\n",
       "      <td>Mitsubishi Lancer, 2014</td>\n",
       "      <td>650 000 ₽</td>\n",
       "      <td>Москва</td>\n",
       "      <td>100 181 км, 1.8 CVT (140 л.с.), седан, передни...</td>\n",
       "      <td>Несколько секунд назад</td>\n",
       "      <td>NaN</td>\n",
       "      <td>Прoдаю надёжный автомобиль в достойнойном тeхн...</td>\n",
       "      <td>2021-11-23</td>\n",
       "      <td>https://www.avito.ru//moskva/avtomobili/mitsub...</td>\n",
       "    </tr>\n",
       "    <tr>\n",
       "      <th>1</th>\n",
       "      <td>Mazda 3, 2008</td>\n",
       "      <td>490 000 ₽</td>\n",
       "      <td>Свердловская область, Екатеринбург</td>\n",
       "      <td>213 000 км, 1.6 MT (105 л.с.), седан, передний...</td>\n",
       "      <td>Несколько секунд назад</td>\n",
       "      <td>NaN</td>\n",
       "      <td>По кузову имеется один окрас, остальное все в ...</td>\n",
       "      <td>2021-11-23</td>\n",
       "      <td>https://www.avito.ru//ekaterinburg/avtomobili/...</td>\n",
       "    </tr>\n",
       "    <tr>\n",
       "      <th>2</th>\n",
       "      <td>ВАЗ (LADA) Granta, 2020</td>\n",
       "      <td>742 000 ₽</td>\n",
       "      <td>Свердловская область, Екатеринбург</td>\n",
       "      <td>25 600 км, 1.6 MT (106 л.с.), седан, передний,...</td>\n",
       "      <td>Несколько секунд назад</td>\n",
       "      <td>ИЮЛЬ авто с пробегом</td>\n",
       "      <td>= Самый большой Автомолл! Более 700 автомобиле...</td>\n",
       "      <td>2021-11-23</td>\n",
       "      <td>https://www.avito.ru//ekaterinburg/avtomobili/...</td>\n",
       "    </tr>\n",
       "    <tr>\n",
       "      <th>3</th>\n",
       "      <td>Toyota Tank, 2018</td>\n",
       "      <td>590 000 ₽</td>\n",
       "      <td>Приморский край, Владивостокский г.о., Владиво...</td>\n",
       "      <td>43 000 км, 1.0 CVT (69 л.с.), хетчбэк, полный,...</td>\n",
       "      <td>Несколько секунд назад</td>\n",
       "      <td>NaN</td>\n",
       "      <td>Автомобиль под заказ из Японии. \\n\\nПробег ука...</td>\n",
       "      <td>2021-11-23</td>\n",
       "      <td>https://www.avito.ru//vladivostok/avtomobili/t...</td>\n",
       "    </tr>\n",
       "    <tr>\n",
       "      <th>4</th>\n",
       "      <td>Kia Rio, 2018</td>\n",
       "      <td>999 000 ₽</td>\n",
       "      <td>Астраханская область, Астрахань</td>\n",
       "      <td>65 000 км, 1.6 AT (123 л.с.), седан, передний,...</td>\n",
       "      <td>Несколько секунд назад</td>\n",
       "      <td>NaN</td>\n",
       "      <td>Автомобиль в отличном состоянии, вложений не т...</td>\n",
       "      <td>2021-11-23</td>\n",
       "      <td>https://www.avito.ru//astrahan/avtomobili/kia_...</td>\n",
       "    </tr>\n",
       "  </tbody>\n",
       "</table>\n",
       "</div>"
      ],
      "text/plain": [
       "                 car_brand  car_price  \\\n",
       "0  Mitsubishi Lancer, 2014  650 000 ₽   \n",
       "1            Mazda 3, 2008  490 000 ₽   \n",
       "2  ВАЗ (LADA) Granta, 2020  742 000 ₽   \n",
       "3        Toyota Tank, 2018  590 000 ₽   \n",
       "4            Kia Rio, 2018  999 000 ₽   \n",
       "\n",
       "                                        car_location  \\\n",
       "0                                             Москва   \n",
       "1                 Свердловская область, Екатеринбург   \n",
       "2                 Свердловская область, Екатеринбург   \n",
       "3  Приморский край, Владивостокский г.о., Владиво...   \n",
       "4                    Астраханская область, Астрахань   \n",
       "\n",
       "                                         car_details                 ad_date  \\\n",
       "0  100 181 км, 1.8 CVT (140 л.с.), седан, передни...  Несколько секунд назад   \n",
       "1  213 000 км, 1.6 MT (105 л.с.), седан, передний...  Несколько секунд назад   \n",
       "2  25 600 км, 1.6 MT (106 л.с.), седан, передний,...  Несколько секунд назад   \n",
       "3  43 000 км, 1.0 CVT (69 л.с.), хетчбэк, полный,...  Несколько секунд назад   \n",
       "4  65 000 км, 1.6 AT (123 л.с.), седан, передний,...  Несколько секунд назад   \n",
       "\n",
       "             car_dealer                                    car_description  \\\n",
       "0                   NaN  Прoдаю надёжный автомобиль в достойнойном тeхн...   \n",
       "1                   NaN  По кузову имеется один окрас, остальное все в ...   \n",
       "2  ИЮЛЬ авто с пробегом  = Самый большой Автомолл! Более 700 автомобиле...   \n",
       "3                   NaN  Автомобиль под заказ из Японии. \\n\\nПробег ука...   \n",
       "4                   NaN  Автомобиль в отличном состоянии, вложений не т...   \n",
       "\n",
       "        today                                            car_url  \n",
       "0  2021-11-23  https://www.avito.ru//moskva/avtomobili/mitsub...  \n",
       "1  2021-11-23  https://www.avito.ru//ekaterinburg/avtomobili/...  \n",
       "2  2021-11-23  https://www.avito.ru//ekaterinburg/avtomobili/...  \n",
       "3  2021-11-23  https://www.avito.ru//vladivostok/avtomobili/t...  \n",
       "4  2021-11-23  https://www.avito.ru//astrahan/avtomobili/kia_...  "
      ]
     },
     "execution_count": 126,
     "metadata": {},
     "output_type": "execute_result"
    }
   ],
   "source": [
    "df = pd.read_csv('file_name.csv')\n",
    "\n",
    "df.head(5)"
   ]
  },
  {
   "cell_type": "code",
   "execution_count": 127,
   "metadata": {},
   "outputs": [
    {
     "data": {
      "text/plain": [
       "(5656, 9)"
      ]
     },
     "execution_count": 127,
     "metadata": {},
     "output_type": "execute_result"
    }
   ],
   "source": [
    "df.shape"
   ]
  },
  {
   "cell_type": "code",
   "execution_count": null,
   "metadata": {},
   "outputs": [],
   "source": []
  },
  {
   "cell_type": "code",
   "execution_count": null,
   "metadata": {},
   "outputs": [],
   "source": []
  }
 ],
 "metadata": {
  "kernelspec": {
   "display_name": "Python 3 (ipykernel)",
   "language": "python",
   "name": "python3"
  },
  "language_info": {
   "codemirror_mode": {
    "name": "ipython",
    "version": 3
   },
   "file_extension": ".py",
   "mimetype": "text/x-python",
   "name": "python",
   "nbconvert_exporter": "python",
   "pygments_lexer": "ipython3",
   "version": "3.8.12"
  }
 },
 "nbformat": 4,
 "nbformat_minor": 4
}
