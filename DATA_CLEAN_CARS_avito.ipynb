{
 "cells": [
  {
   "cell_type": "markdown",
   "metadata": {},
   "source": [
    "#  Clean  data  scraped from Avito: Cars\n",
    "- Data was scraped from avito, Region - entire Russia, any car brand, price 450 000 -1m\n",
    "- Date November 2021"
   ]
  },
  {
   "cell_type": "code",
   "execution_count": 1,
   "metadata": {},
   "outputs": [],
   "source": [
    "import pandas as pd\n",
    "import re\n",
    "import numpy as np\n",
    "from copy import deepcopy"
   ]
  },
  {
   "cell_type": "code",
   "execution_count": 2,
   "metadata": {},
   "outputs": [
    {
     "data": {
      "text/html": [
       "<div>\n",
       "<style scoped>\n",
       "    .dataframe tbody tr th:only-of-type {\n",
       "        vertical-align: middle;\n",
       "    }\n",
       "\n",
       "    .dataframe tbody tr th {\n",
       "        vertical-align: top;\n",
       "    }\n",
       "\n",
       "    .dataframe thead th {\n",
       "        text-align: right;\n",
       "    }\n",
       "</style>\n",
       "<table border=\"1\" class=\"dataframe\">\n",
       "  <thead>\n",
       "    <tr style=\"text-align: right;\">\n",
       "      <th></th>\n",
       "      <th>car_brand</th>\n",
       "      <th>car_price</th>\n",
       "      <th>car_location</th>\n",
       "      <th>car_details</th>\n",
       "      <th>ad_date</th>\n",
       "      <th>car_dealer</th>\n",
       "      <th>car_description</th>\n",
       "      <th>today</th>\n",
       "      <th>car_url</th>\n",
       "    </tr>\n",
       "  </thead>\n",
       "  <tbody>\n",
       "    <tr>\n",
       "      <th>0</th>\n",
       "      <td>Mitsubishi Lancer, 2014</td>\n",
       "      <td>650 000 ₽</td>\n",
       "      <td>Москва</td>\n",
       "      <td>100 181 км, 1.8 CVT (140 л.с.), седан, передни...</td>\n",
       "      <td>Несколько секунд назад</td>\n",
       "      <td>NaN</td>\n",
       "      <td>Прoдаю надёжный автомобиль в достойнойном тeхн...</td>\n",
       "      <td>2021-11-23</td>\n",
       "      <td>https://www.avito.ru//moskva/avtomobili/mitsub...</td>\n",
       "    </tr>\n",
       "  </tbody>\n",
       "</table>\n",
       "</div>"
      ],
      "text/plain": [
       "                 car_brand  car_price car_location  \\\n",
       "0  Mitsubishi Lancer, 2014  650 000 ₽       Москва   \n",
       "\n",
       "                                         car_details                 ad_date  \\\n",
       "0  100 181 км, 1.8 CVT (140 л.с.), седан, передни...  Несколько секунд назад   \n",
       "\n",
       "  car_dealer                                    car_description       today  \\\n",
       "0        NaN  Прoдаю надёжный автомобиль в достойнойном тeхн...  2021-11-23   \n",
       "\n",
       "                                             car_url  \n",
       "0  https://www.avito.ru//moskva/avtomobili/mitsub...  "
      ]
     },
     "execution_count": 2,
     "metadata": {},
     "output_type": "execute_result"
    }
   ],
   "source": [
    "df = pd.read_csv('scraped_avito_cars_450-1m.csv')\n",
    "df.head(1)"
   ]
  },
  {
   "cell_type": "code",
   "execution_count": 3,
   "metadata": {},
   "outputs": [],
   "source": [
    "colnames = ['car','price','location','details','date','dealer','inform','today','url']\n",
    "df.columns = colnames"
   ]
  },
  {
   "cell_type": "code",
   "execution_count": 4,
   "metadata": {},
   "outputs": [
    {
     "data": {
      "text/html": [
       "<div>\n",
       "<style scoped>\n",
       "    .dataframe tbody tr th:only-of-type {\n",
       "        vertical-align: middle;\n",
       "    }\n",
       "\n",
       "    .dataframe tbody tr th {\n",
       "        vertical-align: top;\n",
       "    }\n",
       "\n",
       "    .dataframe thead th {\n",
       "        text-align: right;\n",
       "    }\n",
       "</style>\n",
       "<table border=\"1\" class=\"dataframe\">\n",
       "  <thead>\n",
       "    <tr style=\"text-align: right;\">\n",
       "      <th></th>\n",
       "      <th>car</th>\n",
       "      <th>price</th>\n",
       "      <th>location</th>\n",
       "      <th>details</th>\n",
       "      <th>date</th>\n",
       "      <th>dealer</th>\n",
       "      <th>inform</th>\n",
       "      <th>today</th>\n",
       "      <th>url</th>\n",
       "    </tr>\n",
       "  </thead>\n",
       "  <tbody>\n",
       "    <tr>\n",
       "      <th>0</th>\n",
       "      <td>Mitsubishi Lancer, 2014</td>\n",
       "      <td>650 000 ₽</td>\n",
       "      <td>Москва</td>\n",
       "      <td>100 181 км, 1.8 CVT (140 л.с.), седан, передни...</td>\n",
       "      <td>Несколько секунд назад</td>\n",
       "      <td>NaN</td>\n",
       "      <td>Прoдаю надёжный автомобиль в достойнойном тeхн...</td>\n",
       "      <td>2021-11-23</td>\n",
       "      <td>https://www.avito.ru//moskva/avtomobili/mitsub...</td>\n",
       "    </tr>\n",
       "  </tbody>\n",
       "</table>\n",
       "</div>"
      ],
      "text/plain": [
       "                       car      price location  \\\n",
       "0  Mitsubishi Lancer, 2014  650 000 ₽   Москва   \n",
       "\n",
       "                                             details                    date  \\\n",
       "0  100 181 км, 1.8 CVT (140 л.с.), седан, передни...  Несколько секунд назад   \n",
       "\n",
       "  dealer                                             inform       today  \\\n",
       "0    NaN  Прoдаю надёжный автомобиль в достойнойном тeхн...  2021-11-23   \n",
       "\n",
       "                                                 url  \n",
       "0  https://www.avito.ru//moskva/avtomobili/mitsub...  "
      ]
     },
     "execution_count": 4,
     "metadata": {},
     "output_type": "execute_result"
    }
   ],
   "source": [
    "df.head(1)"
   ]
  },
  {
   "cell_type": "code",
   "execution_count": 5,
   "metadata": {},
   "outputs": [
    {
     "data": {
      "text/plain": [
       "(5656, 9)"
      ]
     },
     "execution_count": 5,
     "metadata": {},
     "output_type": "execute_result"
    }
   ],
   "source": [
    "df.shape"
   ]
  },
  {
   "cell_type": "code",
   "execution_count": 6,
   "metadata": {},
   "outputs": [
    {
     "data": {
      "text/html": [
       "<div>\n",
       "<style scoped>\n",
       "    .dataframe tbody tr th:only-of-type {\n",
       "        vertical-align: middle;\n",
       "    }\n",
       "\n",
       "    .dataframe tbody tr th {\n",
       "        vertical-align: top;\n",
       "    }\n",
       "\n",
       "    .dataframe thead th {\n",
       "        text-align: right;\n",
       "    }\n",
       "</style>\n",
       "<table border=\"1\" class=\"dataframe\">\n",
       "  <thead>\n",
       "    <tr style=\"text-align: right;\">\n",
       "      <th></th>\n",
       "      <th>car</th>\n",
       "      <th>price</th>\n",
       "      <th>location</th>\n",
       "      <th>details</th>\n",
       "      <th>date</th>\n",
       "      <th>dealer</th>\n",
       "      <th>inform</th>\n",
       "      <th>today</th>\n",
       "      <th>url</th>\n",
       "    </tr>\n",
       "  </thead>\n",
       "  <tbody>\n",
       "    <tr>\n",
       "      <th>count</th>\n",
       "      <td>5656</td>\n",
       "      <td>5656</td>\n",
       "      <td>5656</td>\n",
       "      <td>5656</td>\n",
       "      <td>5656</td>\n",
       "      <td>1663</td>\n",
       "      <td>5047</td>\n",
       "      <td>5656</td>\n",
       "      <td>5656</td>\n",
       "    </tr>\n",
       "    <tr>\n",
       "      <th>unique</th>\n",
       "      <td>1586</td>\n",
       "      <td>576</td>\n",
       "      <td>718</td>\n",
       "      <td>4511</td>\n",
       "      <td>87</td>\n",
       "      <td>377</td>\n",
       "      <td>3934</td>\n",
       "      <td>1</td>\n",
       "      <td>4665</td>\n",
       "    </tr>\n",
       "    <tr>\n",
       "      <th>top</th>\n",
       "      <td>Hyundai Solaris, 2014</td>\n",
       "      <td>750 000 ₽</td>\n",
       "      <td>Москва</td>\n",
       "      <td>4 км, 1.5 MT (106 л.с.), седан, передний, бензин</td>\n",
       "      <td>1 час назад</td>\n",
       "      <td>АвтоЛидер Варшавка</td>\n",
       "      <td>Комплект Зимней (Летней) Резины По Сезону В По...</td>\n",
       "      <td>2021-11-23</td>\n",
       "      <td>https://www.avito.ru//moskva/avtomobili/hyunda...</td>\n",
       "    </tr>\n",
       "    <tr>\n",
       "      <th>freq</th>\n",
       "      <td>54</td>\n",
       "      <td>126</td>\n",
       "      <td>916</td>\n",
       "      <td>17</td>\n",
       "      <td>1198</td>\n",
       "      <td>94</td>\n",
       "      <td>56</td>\n",
       "      <td>5656</td>\n",
       "      <td>6</td>\n",
       "    </tr>\n",
       "  </tbody>\n",
       "</table>\n",
       "</div>"
      ],
      "text/plain": [
       "                          car      price location  \\\n",
       "count                    5656       5656     5656   \n",
       "unique                   1586        576      718   \n",
       "top     Hyundai Solaris, 2014  750 000 ₽   Москва   \n",
       "freq                       54        126      916   \n",
       "\n",
       "                                                 details         date  \\\n",
       "count                                               5656         5656   \n",
       "unique                                              4511           87   \n",
       "top     4 км, 1.5 MT (106 л.с.), седан, передний, бензин  1 час назад   \n",
       "freq                                                  17         1198   \n",
       "\n",
       "                    dealer                                             inform  \\\n",
       "count                 1663                                               5047   \n",
       "unique                 377                                               3934   \n",
       "top     АвтоЛидер Варшавка  Комплект Зимней (Летней) Резины По Сезону В По...   \n",
       "freq                    94                                                 56   \n",
       "\n",
       "             today                                                url  \n",
       "count         5656                                               5656  \n",
       "unique           1                                               4665  \n",
       "top     2021-11-23  https://www.avito.ru//moskva/avtomobili/hyunda...  \n",
       "freq          5656                                                  6  "
      ]
     },
     "execution_count": 6,
     "metadata": {},
     "output_type": "execute_result"
    }
   ],
   "source": [
    "df.describe()"
   ]
  },
  {
   "cell_type": "code",
   "execution_count": 7,
   "metadata": {},
   "outputs": [
    {
     "data": {
      "text/plain": [
       "count          5656\n",
       "unique          576\n",
       "top       750 000 ₽\n",
       "freq            126\n",
       "Name: price, dtype: object"
      ]
     },
     "execution_count": 7,
     "metadata": {},
     "output_type": "execute_result"
    }
   ],
   "source": [
    "df.price.describe()"
   ]
  },
  {
   "cell_type": "markdown",
   "metadata": {},
   "source": [
    "# format columns, clear special characters, split"
   ]
  },
  {
   "cell_type": "code",
   "execution_count": 8,
   "metadata": {},
   "outputs": [],
   "source": [
    "df.price = df.price.replace({'от|₽|без|скидки|\\s':''}, regex=True).copy()"
   ]
  },
  {
   "cell_type": "code",
   "execution_count": 9,
   "metadata": {},
   "outputs": [
    {
     "data": {
      "text/plain": [
       "0"
      ]
     },
     "execution_count": 9,
     "metadata": {},
     "output_type": "execute_result"
    }
   ],
   "source": [
    "sum(df.price.str.contains('₽'))"
   ]
  },
  {
   "cell_type": "code",
   "execution_count": 10,
   "metadata": {},
   "outputs": [
    {
     "data": {
      "text/html": [
       "<div>\n",
       "<style scoped>\n",
       "    .dataframe tbody tr th:only-of-type {\n",
       "        vertical-align: middle;\n",
       "    }\n",
       "\n",
       "    .dataframe tbody tr th {\n",
       "        vertical-align: top;\n",
       "    }\n",
       "\n",
       "    .dataframe thead th {\n",
       "        text-align: right;\n",
       "    }\n",
       "</style>\n",
       "<table border=\"1\" class=\"dataframe\">\n",
       "  <thead>\n",
       "    <tr style=\"text-align: right;\">\n",
       "      <th></th>\n",
       "      <th>0</th>\n",
       "      <th>1</th>\n",
       "      <th>2</th>\n",
       "      <th>3</th>\n",
       "      <th>4</th>\n",
       "    </tr>\n",
       "  </thead>\n",
       "  <tbody>\n",
       "    <tr>\n",
       "      <th>0</th>\n",
       "      <td>100 181 км</td>\n",
       "      <td>1.8 CVT (140 л.с.)</td>\n",
       "      <td>седан</td>\n",
       "      <td>передний</td>\n",
       "      <td>бензин</td>\n",
       "    </tr>\n",
       "    <tr>\n",
       "      <th>1</th>\n",
       "      <td>213 000 км</td>\n",
       "      <td>1.6 MT (105 л.с.)</td>\n",
       "      <td>седан</td>\n",
       "      <td>передний</td>\n",
       "      <td>бензин</td>\n",
       "    </tr>\n",
       "  </tbody>\n",
       "</table>\n",
       "</div>"
      ],
      "text/plain": [
       "            0                    1       2          3        4\n",
       "0  100 181 км   1.8 CVT (140 л.с.)   седан   передний   бензин\n",
       "1  213 000 км    1.6 MT (105 л.с.)   седан   передний   бензин"
      ]
     },
     "execution_count": 10,
     "metadata": {},
     "output_type": "execute_result"
    }
   ],
   "source": [
    "## prototype split details\n",
    "b =  pd.DataFrame(df.details.apply(lambda x: str(x).split(',')).to_list()) \n",
    "b.head(2)\n",
    "#df.loc[:, 2].unique()"
   ]
  },
  {
   "cell_type": "code",
   "execution_count": 11,
   "metadata": {},
   "outputs": [],
   "source": [
    "df[['mileage', 'box_engine', 'body', 'drive', 'fuel']] = df.details.str.split(',', expand = True)"
   ]
  },
  {
   "cell_type": "code",
   "execution_count": 12,
   "metadata": {},
   "outputs": [
    {
     "data": {
      "text/html": [
       "<div>\n",
       "<style scoped>\n",
       "    .dataframe tbody tr th:only-of-type {\n",
       "        vertical-align: middle;\n",
       "    }\n",
       "\n",
       "    .dataframe tbody tr th {\n",
       "        vertical-align: top;\n",
       "    }\n",
       "\n",
       "    .dataframe thead th {\n",
       "        text-align: right;\n",
       "    }\n",
       "</style>\n",
       "<table border=\"1\" class=\"dataframe\">\n",
       "  <thead>\n",
       "    <tr style=\"text-align: right;\">\n",
       "      <th></th>\n",
       "      <th>car</th>\n",
       "      <th>price</th>\n",
       "      <th>location</th>\n",
       "      <th>details</th>\n",
       "      <th>date</th>\n",
       "      <th>dealer</th>\n",
       "      <th>inform</th>\n",
       "      <th>today</th>\n",
       "      <th>url</th>\n",
       "      <th>mileage</th>\n",
       "      <th>box_engine</th>\n",
       "      <th>body</th>\n",
       "      <th>drive</th>\n",
       "      <th>fuel</th>\n",
       "    </tr>\n",
       "  </thead>\n",
       "  <tbody>\n",
       "    <tr>\n",
       "      <th>0</th>\n",
       "      <td>Mitsubishi Lancer, 2014</td>\n",
       "      <td>650000</td>\n",
       "      <td>Москва</td>\n",
       "      <td>100 181 км, 1.8 CVT (140 л.с.), седан, передни...</td>\n",
       "      <td>Несколько секунд назад</td>\n",
       "      <td>NaN</td>\n",
       "      <td>Прoдаю надёжный автомобиль в достойнойном тeхн...</td>\n",
       "      <td>2021-11-23</td>\n",
       "      <td>https://www.avito.ru//moskva/avtomobili/mitsub...</td>\n",
       "      <td>100 181 км</td>\n",
       "      <td>1.8 CVT (140 л.с.)</td>\n",
       "      <td>седан</td>\n",
       "      <td>передний</td>\n",
       "      <td>бензин</td>\n",
       "    </tr>\n",
       "  </tbody>\n",
       "</table>\n",
       "</div>"
      ],
      "text/plain": [
       "                       car   price location  \\\n",
       "0  Mitsubishi Lancer, 2014  650000   Москва   \n",
       "\n",
       "                                             details                    date  \\\n",
       "0  100 181 км, 1.8 CVT (140 л.с.), седан, передни...  Несколько секунд назад   \n",
       "\n",
       "  dealer                                             inform       today  \\\n",
       "0    NaN  Прoдаю надёжный автомобиль в достойнойном тeхн...  2021-11-23   \n",
       "\n",
       "                                                 url     mileage  \\\n",
       "0  https://www.avito.ru//moskva/avtomobili/mitsub...  100 181 км   \n",
       "\n",
       "            box_engine    body      drive     fuel  \n",
       "0   1.8 CVT (140 л.с.)   седан   передний   бензин  "
      ]
     },
     "execution_count": 12,
     "metadata": {},
     "output_type": "execute_result"
    }
   ],
   "source": [
    "df.head(1)"
   ]
  },
  {
   "cell_type": "code",
   "execution_count": 13,
   "metadata": {},
   "outputs": [
    {
     "data": {
      "text/plain": [
       "array([' седан', ' хетчбэк', ' фургон', ' внедорожник', ' универсал',\n",
       "       ' минивэн', ' пикап', ' микроавтобус', ' купе', ' кабриолет'],\n",
       "      dtype=object)"
      ]
     },
     "execution_count": 13,
     "metadata": {},
     "output_type": "execute_result"
    }
   ],
   "source": [
    "df.body.unique()"
   ]
  },
  {
   "cell_type": "code",
   "execution_count": 14,
   "metadata": {},
   "outputs": [],
   "source": [
    "## replace the first bracket with , to split the column later\n",
    "## ) is a special character, so escape it with \\\n",
    "df.box_engine = df.box_engine.replace({'\\(':','}, regex=True).copy()"
   ]
  },
  {
   "cell_type": "code",
   "execution_count": 15,
   "metadata": {},
   "outputs": [],
   "source": [
    "df[['vol_box', 'hp']] = df.box_engine.str.split(',', expand = True)"
   ]
  },
  {
   "cell_type": "code",
   "execution_count": 16,
   "metadata": {},
   "outputs": [
    {
     "data": {
      "text/html": [
       "<div>\n",
       "<style scoped>\n",
       "    .dataframe tbody tr th:only-of-type {\n",
       "        vertical-align: middle;\n",
       "    }\n",
       "\n",
       "    .dataframe tbody tr th {\n",
       "        vertical-align: top;\n",
       "    }\n",
       "\n",
       "    .dataframe thead th {\n",
       "        text-align: right;\n",
       "    }\n",
       "</style>\n",
       "<table border=\"1\" class=\"dataframe\">\n",
       "  <thead>\n",
       "    <tr style=\"text-align: right;\">\n",
       "      <th></th>\n",
       "      <th>car</th>\n",
       "      <th>price</th>\n",
       "      <th>location</th>\n",
       "      <th>details</th>\n",
       "      <th>date</th>\n",
       "      <th>dealer</th>\n",
       "      <th>inform</th>\n",
       "      <th>today</th>\n",
       "      <th>url</th>\n",
       "      <th>mileage</th>\n",
       "      <th>box_engine</th>\n",
       "      <th>body</th>\n",
       "      <th>drive</th>\n",
       "      <th>fuel</th>\n",
       "      <th>vol_box</th>\n",
       "      <th>hp</th>\n",
       "    </tr>\n",
       "  </thead>\n",
       "  <tbody>\n",
       "    <tr>\n",
       "      <th>0</th>\n",
       "      <td>Mitsubishi Lancer, 2014</td>\n",
       "      <td>650000</td>\n",
       "      <td>Москва</td>\n",
       "      <td>100 181 км, 1.8 CVT (140 л.с.), седан, передни...</td>\n",
       "      <td>Несколько секунд назад</td>\n",
       "      <td>NaN</td>\n",
       "      <td>Прoдаю надёжный автомобиль в достойнойном тeхн...</td>\n",
       "      <td>2021-11-23</td>\n",
       "      <td>https://www.avito.ru//moskva/avtomobili/mitsub...</td>\n",
       "      <td>100 181 км</td>\n",
       "      <td>1.8 CVT ,140 л.с.)</td>\n",
       "      <td>седан</td>\n",
       "      <td>передний</td>\n",
       "      <td>бензин</td>\n",
       "      <td>1.8 CVT</td>\n",
       "      <td>140 л.с.)</td>\n",
       "    </tr>\n",
       "  </tbody>\n",
       "</table>\n",
       "</div>"
      ],
      "text/plain": [
       "                       car   price location  \\\n",
       "0  Mitsubishi Lancer, 2014  650000   Москва   \n",
       "\n",
       "                                             details                    date  \\\n",
       "0  100 181 км, 1.8 CVT (140 л.с.), седан, передни...  Несколько секунд назад   \n",
       "\n",
       "  dealer                                             inform       today  \\\n",
       "0    NaN  Прoдаю надёжный автомобиль в достойнойном тeхн...  2021-11-23   \n",
       "\n",
       "                                                 url     mileage  \\\n",
       "0  https://www.avito.ru//moskva/avtomobili/mitsub...  100 181 км   \n",
       "\n",
       "            box_engine    body      drive     fuel    vol_box         hp  \n",
       "0   1.8 CVT ,140 л.с.)   седан   передний   бензин   1.8 CVT   140 л.с.)  "
      ]
     },
     "execution_count": 16,
     "metadata": {},
     "output_type": "execute_result"
    }
   ],
   "source": [
    "df.head(1)"
   ]
  },
  {
   "cell_type": "code",
   "execution_count": 17,
   "metadata": {},
   "outputs": [],
   "source": [
    "df.hp = df.hp.replace({'л.с.\\)':''}, regex=True).copy()\n",
    "df.hp = df.hp.replace({'\\s':''}, regex=True).copy()"
   ]
  },
  {
   "cell_type": "markdown",
   "metadata": {},
   "source": [
    "### vol_box : Etxract vol and hp : Regex Method"
   ]
  },
  {
   "cell_type": "code",
   "execution_count": 18,
   "metadata": {},
   "outputs": [],
   "source": [
    "df['vol'] = df['vol_box'].str.extract(r'(\\d+.\\d+)').astype('float')"
   ]
  },
  {
   "cell_type": "code",
   "execution_count": 19,
   "metadata": {},
   "outputs": [
    {
     "data": {
      "text/html": [
       "<div>\n",
       "<style scoped>\n",
       "    .dataframe tbody tr th:only-of-type {\n",
       "        vertical-align: middle;\n",
       "    }\n",
       "\n",
       "    .dataframe tbody tr th {\n",
       "        vertical-align: top;\n",
       "    }\n",
       "\n",
       "    .dataframe thead th {\n",
       "        text-align: right;\n",
       "    }\n",
       "</style>\n",
       "<table border=\"1\" class=\"dataframe\">\n",
       "  <thead>\n",
       "    <tr style=\"text-align: right;\">\n",
       "      <th></th>\n",
       "      <th>car</th>\n",
       "      <th>price</th>\n",
       "      <th>location</th>\n",
       "      <th>details</th>\n",
       "      <th>date</th>\n",
       "      <th>dealer</th>\n",
       "      <th>inform</th>\n",
       "      <th>today</th>\n",
       "      <th>url</th>\n",
       "      <th>mileage</th>\n",
       "      <th>box_engine</th>\n",
       "      <th>body</th>\n",
       "      <th>drive</th>\n",
       "      <th>fuel</th>\n",
       "      <th>vol_box</th>\n",
       "      <th>hp</th>\n",
       "      <th>vol</th>\n",
       "    </tr>\n",
       "  </thead>\n",
       "  <tbody>\n",
       "    <tr>\n",
       "      <th>228</th>\n",
       "      <td>LADA Largus, 2020</td>\n",
       "      <td>985000</td>\n",
       "      <td>Саратовская область, Энгельсский р-н, Энгельс</td>\n",
       "      <td>47 499 км, 1.6 MT (106 л.с.), универсал, перед...</td>\n",
       "      <td>9 минут назад</td>\n",
       "      <td>NaN</td>\n",
       "      <td>Состояние нового автомобиля! Один хозяин! Беза...</td>\n",
       "      <td>2021-11-23</td>\n",
       "      <td>https://www.avito.ru//engels/avtomobili/lada_l...</td>\n",
       "      <td>47 499 км</td>\n",
       "      <td>1.6 MT ,106 л.с.)</td>\n",
       "      <td>универсал</td>\n",
       "      <td>передний</td>\n",
       "      <td>бензин</td>\n",
       "      <td>1.6 MT</td>\n",
       "      <td>106</td>\n",
       "      <td>1.6</td>\n",
       "    </tr>\n",
       "    <tr>\n",
       "      <th>229</th>\n",
       "      <td>Mercedes-Benz M-класс AMG, 2007</td>\n",
       "      <td>800000</td>\n",
       "      <td>Курская область, Курск</td>\n",
       "      <td>285 000 км, AT (510 л.с.), внедорожник, полный...</td>\n",
       "      <td>9 минут назад</td>\n",
       "      <td>NaN</td>\n",
       "      <td>Авто полностью обслужен не каких вложений не т...</td>\n",
       "      <td>2021-11-23</td>\n",
       "      <td>https://www.avito.ru//kursk/avtomobili/mercede...</td>\n",
       "      <td>285 000 км</td>\n",
       "      <td>AT ,510 л.с.)</td>\n",
       "      <td>внедорожник</td>\n",
       "      <td>полный</td>\n",
       "      <td>бензин</td>\n",
       "      <td>AT</td>\n",
       "      <td>510</td>\n",
       "      <td>NaN</td>\n",
       "    </tr>\n",
       "  </tbody>\n",
       "</table>\n",
       "</div>"
      ],
      "text/plain": [
       "                                 car   price  \\\n",
       "228                LADA Largus, 2020  985000   \n",
       "229  Mercedes-Benz M-класс AMG, 2007  800000   \n",
       "\n",
       "                                          location  \\\n",
       "228  Саратовская область, Энгельсский р-н, Энгельс   \n",
       "229                         Курская область, Курск   \n",
       "\n",
       "                                               details           date dealer  \\\n",
       "228  47 499 км, 1.6 MT (106 л.с.), универсал, перед...  9 минут назад    NaN   \n",
       "229  285 000 км, AT (510 л.с.), внедорожник, полный...  9 минут назад    NaN   \n",
       "\n",
       "                                                inform       today  \\\n",
       "228  Состояние нового автомобиля! Один хозяин! Беза...  2021-11-23   \n",
       "229  Авто полностью обслужен не каких вложений не т...  2021-11-23   \n",
       "\n",
       "                                                   url     mileage  \\\n",
       "228  https://www.avito.ru//engels/avtomobili/lada_l...   47 499 км   \n",
       "229  https://www.avito.ru//kursk/avtomobili/mercede...  285 000 км   \n",
       "\n",
       "             box_engine          body      drive     fuel   vol_box   hp  vol  \n",
       "228   1.6 MT ,106 л.с.)     универсал   передний   бензин   1.6 MT   106  1.6  \n",
       "229       AT ,510 л.с.)   внедорожник     полный   бензин       AT   510  NaN  "
      ]
     },
     "execution_count": 19,
     "metadata": {},
     "output_type": "execute_result"
    }
   ],
   "source": [
    "df.iloc[[228,229]]"
   ]
  },
  {
   "cell_type": "code",
   "execution_count": 20,
   "metadata": {},
   "outputs": [],
   "source": [
    "df['box'] = df['vol_box'].str.extract(r'([a-zA-Z]+)')"
   ]
  },
  {
   "cell_type": "code",
   "execution_count": 21,
   "metadata": {},
   "outputs": [
    {
     "data": {
      "text/html": [
       "<div>\n",
       "<style scoped>\n",
       "    .dataframe tbody tr th:only-of-type {\n",
       "        vertical-align: middle;\n",
       "    }\n",
       "\n",
       "    .dataframe tbody tr th {\n",
       "        vertical-align: top;\n",
       "    }\n",
       "\n",
       "    .dataframe thead th {\n",
       "        text-align: right;\n",
       "    }\n",
       "</style>\n",
       "<table border=\"1\" class=\"dataframe\">\n",
       "  <thead>\n",
       "    <tr style=\"text-align: right;\">\n",
       "      <th></th>\n",
       "      <th>car</th>\n",
       "      <th>price</th>\n",
       "      <th>location</th>\n",
       "      <th>details</th>\n",
       "      <th>date</th>\n",
       "      <th>dealer</th>\n",
       "      <th>inform</th>\n",
       "      <th>today</th>\n",
       "      <th>url</th>\n",
       "      <th>mileage</th>\n",
       "      <th>box_engine</th>\n",
       "      <th>body</th>\n",
       "      <th>drive</th>\n",
       "      <th>fuel</th>\n",
       "      <th>vol_box</th>\n",
       "      <th>hp</th>\n",
       "      <th>vol</th>\n",
       "      <th>box</th>\n",
       "    </tr>\n",
       "  </thead>\n",
       "  <tbody>\n",
       "    <tr>\n",
       "      <th>228</th>\n",
       "      <td>LADA Largus, 2020</td>\n",
       "      <td>985000</td>\n",
       "      <td>Саратовская область, Энгельсский р-н, Энгельс</td>\n",
       "      <td>47 499 км, 1.6 MT (106 л.с.), универсал, перед...</td>\n",
       "      <td>9 минут назад</td>\n",
       "      <td>NaN</td>\n",
       "      <td>Состояние нового автомобиля! Один хозяин! Беза...</td>\n",
       "      <td>2021-11-23</td>\n",
       "      <td>https://www.avito.ru//engels/avtomobili/lada_l...</td>\n",
       "      <td>47 499 км</td>\n",
       "      <td>1.6 MT ,106 л.с.)</td>\n",
       "      <td>универсал</td>\n",
       "      <td>передний</td>\n",
       "      <td>бензин</td>\n",
       "      <td>1.6 MT</td>\n",
       "      <td>106</td>\n",
       "      <td>1.6</td>\n",
       "      <td>MT</td>\n",
       "    </tr>\n",
       "    <tr>\n",
       "      <th>229</th>\n",
       "      <td>Mercedes-Benz M-класс AMG, 2007</td>\n",
       "      <td>800000</td>\n",
       "      <td>Курская область, Курск</td>\n",
       "      <td>285 000 км, AT (510 л.с.), внедорожник, полный...</td>\n",
       "      <td>9 минут назад</td>\n",
       "      <td>NaN</td>\n",
       "      <td>Авто полностью обслужен не каких вложений не т...</td>\n",
       "      <td>2021-11-23</td>\n",
       "      <td>https://www.avito.ru//kursk/avtomobili/mercede...</td>\n",
       "      <td>285 000 км</td>\n",
       "      <td>AT ,510 л.с.)</td>\n",
       "      <td>внедорожник</td>\n",
       "      <td>полный</td>\n",
       "      <td>бензин</td>\n",
       "      <td>AT</td>\n",
       "      <td>510</td>\n",
       "      <td>NaN</td>\n",
       "      <td>AT</td>\n",
       "    </tr>\n",
       "  </tbody>\n",
       "</table>\n",
       "</div>"
      ],
      "text/plain": [
       "                                 car   price  \\\n",
       "228                LADA Largus, 2020  985000   \n",
       "229  Mercedes-Benz M-класс AMG, 2007  800000   \n",
       "\n",
       "                                          location  \\\n",
       "228  Саратовская область, Энгельсский р-н, Энгельс   \n",
       "229                         Курская область, Курск   \n",
       "\n",
       "                                               details           date dealer  \\\n",
       "228  47 499 км, 1.6 MT (106 л.с.), универсал, перед...  9 минут назад    NaN   \n",
       "229  285 000 км, AT (510 л.с.), внедорожник, полный...  9 минут назад    NaN   \n",
       "\n",
       "                                                inform       today  \\\n",
       "228  Состояние нового автомобиля! Один хозяин! Беза...  2021-11-23   \n",
       "229  Авто полностью обслужен не каких вложений не т...  2021-11-23   \n",
       "\n",
       "                                                   url     mileage  \\\n",
       "228  https://www.avito.ru//engels/avtomobili/lada_l...   47 499 км   \n",
       "229  https://www.avito.ru//kursk/avtomobili/mercede...  285 000 км   \n",
       "\n",
       "             box_engine          body      drive     fuel   vol_box   hp  vol  \\\n",
       "228   1.6 MT ,106 л.с.)     универсал   передний   бензин   1.6 MT   106  1.6   \n",
       "229       AT ,510 л.с.)   внедорожник     полный   бензин       AT   510  NaN   \n",
       "\n",
       "    box  \n",
       "228  MT  \n",
       "229  AT  "
      ]
     },
     "execution_count": 21,
     "metadata": {},
     "output_type": "execute_result"
    }
   ],
   "source": [
    "df.iloc[[228,229]]"
   ]
  },
  {
   "cell_type": "markdown",
   "metadata": {},
   "source": [
    "### vol_box : Etxract vol and hp : Split, expand method (longer, inefficnet)"
   ]
  },
  {
   "cell_type": "code",
   "execution_count": 22,
   "metadata": {},
   "outputs": [
    {
     "data": {
      "text/html": [
       "<div>\n",
       "<style scoped>\n",
       "    .dataframe tbody tr th:only-of-type {\n",
       "        vertical-align: middle;\n",
       "    }\n",
       "\n",
       "    .dataframe tbody tr th {\n",
       "        vertical-align: top;\n",
       "    }\n",
       "\n",
       "    .dataframe thead th {\n",
       "        text-align: right;\n",
       "    }\n",
       "</style>\n",
       "<table border=\"1\" class=\"dataframe\">\n",
       "  <thead>\n",
       "    <tr style=\"text-align: right;\">\n",
       "      <th></th>\n",
       "      <th>0</th>\n",
       "      <th>1</th>\n",
       "      <th>2</th>\n",
       "      <th>3</th>\n",
       "    </tr>\n",
       "  </thead>\n",
       "  <tbody>\n",
       "    <tr>\n",
       "      <th>227</th>\n",
       "      <td></td>\n",
       "      <td>1.6</td>\n",
       "      <td>MT</td>\n",
       "      <td></td>\n",
       "    </tr>\n",
       "    <tr>\n",
       "      <th>228</th>\n",
       "      <td></td>\n",
       "      <td>1.6</td>\n",
       "      <td>MT</td>\n",
       "      <td></td>\n",
       "    </tr>\n",
       "    <tr>\n",
       "      <th>229</th>\n",
       "      <td></td>\n",
       "      <td>AT</td>\n",
       "      <td></td>\n",
       "      <td>None</td>\n",
       "    </tr>\n",
       "  </tbody>\n",
       "</table>\n",
       "</div>"
      ],
      "text/plain": [
       "    0    1   2     3\n",
       "227    1.6  MT      \n",
       "228    1.6  MT      \n",
       "229     AT      None"
      ]
     },
     "execution_count": 22,
     "metadata": {},
     "output_type": "execute_result"
    }
   ],
   "source": [
    "## values in vol_box col with no engine vol data are placed in \n",
    "## a column for volumne after split\n",
    "cc = df.vol_box.str.split(' ', expand = True).copy()\n",
    "cc.iloc[[227, 228,229]]"
   ]
  },
  {
   "cell_type": "code",
   "execution_count": 23,
   "metadata": {},
   "outputs": [
    {
     "data": {
      "text/html": [
       "<div>\n",
       "<style scoped>\n",
       "    .dataframe tbody tr th:only-of-type {\n",
       "        vertical-align: middle;\n",
       "    }\n",
       "\n",
       "    .dataframe tbody tr th {\n",
       "        vertical-align: top;\n",
       "    }\n",
       "\n",
       "    .dataframe thead th {\n",
       "        text-align: right;\n",
       "    }\n",
       "</style>\n",
       "<table border=\"1\" class=\"dataframe\">\n",
       "  <thead>\n",
       "    <tr style=\"text-align: right;\">\n",
       "      <th></th>\n",
       "      <th>0</th>\n",
       "      <th>1</th>\n",
       "      <th>2</th>\n",
       "      <th>3</th>\n",
       "    </tr>\n",
       "  </thead>\n",
       "  <tbody>\n",
       "    <tr>\n",
       "      <th>227</th>\n",
       "      <td></td>\n",
       "      <td>1.6</td>\n",
       "      <td>MT</td>\n",
       "      <td></td>\n",
       "    </tr>\n",
       "    <tr>\n",
       "      <th>228</th>\n",
       "      <td></td>\n",
       "      <td>1.6</td>\n",
       "      <td>MT</td>\n",
       "      <td></td>\n",
       "    </tr>\n",
       "    <tr>\n",
       "      <th>229</th>\n",
       "      <td>NaN</td>\n",
       "      <td></td>\n",
       "      <td>AT</td>\n",
       "      <td></td>\n",
       "    </tr>\n",
       "  </tbody>\n",
       "</table>\n",
       "</div>"
      ],
      "text/plain": [
       "       0    1   2 3\n",
       "227       1.6  MT  \n",
       "228       1.6  MT  \n",
       "229  NaN       AT  "
      ]
     },
     "execution_count": 23,
     "metadata": {},
     "output_type": "execute_result"
    }
   ],
   "source": [
    "## Move during split method\n",
    "## the 4 in lambda Basically regualtes how far to the right the Dummy 0 will be pushed \n",
    "a = pd.DataFrame(df.vol_box.apply(lambda x: str(x).split(' ')).\n",
    "                                          apply(lambda x: [np.nan]*(4-len(x)) + x).to_list())\n",
    "a.iloc[[227, 228,229]]"
   ]
  },
  {
   "cell_type": "code",
   "execution_count": 24,
   "metadata": {},
   "outputs": [
    {
     "data": {
      "text/plain": [
       "'[nan] AT'"
      ]
     },
     "execution_count": 24,
     "metadata": {},
     "output_type": "execute_result"
    }
   ],
   "source": [
    "str ([np.nan]*(4 - len(' AT')) ) + ' AT'"
   ]
  },
  {
   "cell_type": "code",
   "execution_count": 25,
   "metadata": {},
   "outputs": [
    {
     "data": {
      "text/html": [
       "<div>\n",
       "<style scoped>\n",
       "    .dataframe tbody tr th:only-of-type {\n",
       "        vertical-align: middle;\n",
       "    }\n",
       "\n",
       "    .dataframe tbody tr th {\n",
       "        vertical-align: top;\n",
       "    }\n",
       "\n",
       "    .dataframe thead th {\n",
       "        text-align: right;\n",
       "    }\n",
       "</style>\n",
       "<table border=\"1\" class=\"dataframe\">\n",
       "  <thead>\n",
       "    <tr style=\"text-align: right;\">\n",
       "      <th></th>\n",
       "      <th>car</th>\n",
       "      <th>price</th>\n",
       "      <th>location</th>\n",
       "      <th>details</th>\n",
       "      <th>date</th>\n",
       "      <th>dealer</th>\n",
       "      <th>inform</th>\n",
       "      <th>today</th>\n",
       "      <th>url</th>\n",
       "      <th>mileage</th>\n",
       "      <th>box_engine</th>\n",
       "      <th>body</th>\n",
       "      <th>drive</th>\n",
       "      <th>fuel</th>\n",
       "      <th>vol_box</th>\n",
       "      <th>hp</th>\n",
       "      <th>vol</th>\n",
       "      <th>box</th>\n",
       "    </tr>\n",
       "  </thead>\n",
       "  <tbody>\n",
       "    <tr>\n",
       "      <th>0</th>\n",
       "      <td>Mitsubishi Lancer, 2014</td>\n",
       "      <td>650000</td>\n",
       "      <td>Москва</td>\n",
       "      <td>100 181 км, 1.8 CVT (140 л.с.), седан, передни...</td>\n",
       "      <td>Несколько секунд назад</td>\n",
       "      <td>NaN</td>\n",
       "      <td>Прoдаю надёжный автомобиль в достойнойном тeхн...</td>\n",
       "      <td>2021-11-23</td>\n",
       "      <td>https://www.avito.ru//moskva/avtomobili/mitsub...</td>\n",
       "      <td>100 181 км</td>\n",
       "      <td>1.8 CVT ,140 л.с.)</td>\n",
       "      <td>седан</td>\n",
       "      <td>передний</td>\n",
       "      <td>бензин</td>\n",
       "      <td>1.8 CVT</td>\n",
       "      <td>140</td>\n",
       "      <td>1.8</td>\n",
       "      <td>CVT</td>\n",
       "    </tr>\n",
       "    <tr>\n",
       "      <th>1</th>\n",
       "      <td>Mazda 3, 2008</td>\n",
       "      <td>490000</td>\n",
       "      <td>Свердловская область, Екатеринбург</td>\n",
       "      <td>213 000 км, 1.6 MT (105 л.с.), седан, передний...</td>\n",
       "      <td>Несколько секунд назад</td>\n",
       "      <td>NaN</td>\n",
       "      <td>По кузову имеется один окрас, остальное все в ...</td>\n",
       "      <td>2021-11-23</td>\n",
       "      <td>https://www.avito.ru//ekaterinburg/avtomobili/...</td>\n",
       "      <td>213 000 км</td>\n",
       "      <td>1.6 MT ,105 л.с.)</td>\n",
       "      <td>седан</td>\n",
       "      <td>передний</td>\n",
       "      <td>бензин</td>\n",
       "      <td>1.6 MT</td>\n",
       "      <td>105</td>\n",
       "      <td>1.6</td>\n",
       "      <td>MT</td>\n",
       "    </tr>\n",
       "  </tbody>\n",
       "</table>\n",
       "</div>"
      ],
      "text/plain": [
       "                       car   price                            location  \\\n",
       "0  Mitsubishi Lancer, 2014  650000                              Москва   \n",
       "1            Mazda 3, 2008  490000  Свердловская область, Екатеринбург   \n",
       "\n",
       "                                             details                    date  \\\n",
       "0  100 181 км, 1.8 CVT (140 л.с.), седан, передни...  Несколько секунд назад   \n",
       "1  213 000 км, 1.6 MT (105 л.с.), седан, передний...  Несколько секунд назад   \n",
       "\n",
       "  dealer                                             inform       today  \\\n",
       "0    NaN  Прoдаю надёжный автомобиль в достойнойном тeхн...  2021-11-23   \n",
       "1    NaN  По кузову имеется один окрас, остальное все в ...  2021-11-23   \n",
       "\n",
       "                                                 url     mileage  \\\n",
       "0  https://www.avito.ru//moskva/avtomobili/mitsub...  100 181 км   \n",
       "1  https://www.avito.ru//ekaterinburg/avtomobili/...  213 000 км   \n",
       "\n",
       "            box_engine    body      drive     fuel    vol_box   hp  vol  box  \n",
       "0   1.8 CVT ,140 л.с.)   седан   передний   бензин   1.8 CVT   140  1.8  CVT  \n",
       "1    1.6 MT ,105 л.с.)   седан   передний   бензин    1.6 MT   105  1.6   MT  "
      ]
     },
     "execution_count": 25,
     "metadata": {},
     "output_type": "execute_result"
    }
   ],
   "source": [
    "df.head(2)"
   ]
  },
  {
   "cell_type": "markdown",
   "metadata": {},
   "source": [
    "### rearrange columns once more"
   ]
  },
  {
   "cell_type": "code",
   "execution_count": 26,
   "metadata": {},
   "outputs": [],
   "source": [
    "df =df.drop(['details', 'box_engine', 'vol_box'], axis =1)\n",
    "df=df[['car','price','mileage','hp', 'vol','box',\n",
    "       'body', 'drive', 'fuel', 'location',  'inform','date','today','url']]"
   ]
  },
  {
   "cell_type": "code",
   "execution_count": 27,
   "metadata": {},
   "outputs": [
    {
     "data": {
      "text/html": [
       "<div>\n",
       "<style scoped>\n",
       "    .dataframe tbody tr th:only-of-type {\n",
       "        vertical-align: middle;\n",
       "    }\n",
       "\n",
       "    .dataframe tbody tr th {\n",
       "        vertical-align: top;\n",
       "    }\n",
       "\n",
       "    .dataframe thead th {\n",
       "        text-align: right;\n",
       "    }\n",
       "</style>\n",
       "<table border=\"1\" class=\"dataframe\">\n",
       "  <thead>\n",
       "    <tr style=\"text-align: right;\">\n",
       "      <th></th>\n",
       "      <th>car</th>\n",
       "      <th>price</th>\n",
       "      <th>mileage</th>\n",
       "      <th>hp</th>\n",
       "      <th>vol</th>\n",
       "      <th>box</th>\n",
       "      <th>body</th>\n",
       "      <th>drive</th>\n",
       "      <th>fuel</th>\n",
       "      <th>location</th>\n",
       "      <th>inform</th>\n",
       "      <th>date</th>\n",
       "      <th>today</th>\n",
       "      <th>url</th>\n",
       "    </tr>\n",
       "  </thead>\n",
       "  <tbody>\n",
       "    <tr>\n",
       "      <th>228</th>\n",
       "      <td>LADA Largus, 2020</td>\n",
       "      <td>985000</td>\n",
       "      <td>47 499 км</td>\n",
       "      <td>106</td>\n",
       "      <td>1.6</td>\n",
       "      <td>MT</td>\n",
       "      <td>универсал</td>\n",
       "      <td>передний</td>\n",
       "      <td>бензин</td>\n",
       "      <td>Саратовская область, Энгельсский р-н, Энгельс</td>\n",
       "      <td>Состояние нового автомобиля! Один хозяин! Беза...</td>\n",
       "      <td>9 минут назад</td>\n",
       "      <td>2021-11-23</td>\n",
       "      <td>https://www.avito.ru//engels/avtomobili/lada_l...</td>\n",
       "    </tr>\n",
       "    <tr>\n",
       "      <th>229</th>\n",
       "      <td>Mercedes-Benz M-класс AMG, 2007</td>\n",
       "      <td>800000</td>\n",
       "      <td>285 000 км</td>\n",
       "      <td>510</td>\n",
       "      <td>NaN</td>\n",
       "      <td>AT</td>\n",
       "      <td>внедорожник</td>\n",
       "      <td>полный</td>\n",
       "      <td>бензин</td>\n",
       "      <td>Курская область, Курск</td>\n",
       "      <td>Авто полностью обслужен не каких вложений не т...</td>\n",
       "      <td>9 минут назад</td>\n",
       "      <td>2021-11-23</td>\n",
       "      <td>https://www.avito.ru//kursk/avtomobili/mercede...</td>\n",
       "    </tr>\n",
       "  </tbody>\n",
       "</table>\n",
       "</div>"
      ],
      "text/plain": [
       "                                 car   price     mileage   hp  vol box  \\\n",
       "228                LADA Largus, 2020  985000   47 499 км  106  1.6  MT   \n",
       "229  Mercedes-Benz M-класс AMG, 2007  800000  285 000 км  510  NaN  AT   \n",
       "\n",
       "             body      drive     fuel  \\\n",
       "228     универсал   передний   бензин   \n",
       "229   внедорожник     полный   бензин   \n",
       "\n",
       "                                          location  \\\n",
       "228  Саратовская область, Энгельсский р-н, Энгельс   \n",
       "229                         Курская область, Курск   \n",
       "\n",
       "                                                inform           date  \\\n",
       "228  Состояние нового автомобиля! Один хозяин! Беза...  9 минут назад   \n",
       "229  Авто полностью обслужен не каких вложений не т...  9 минут назад   \n",
       "\n",
       "          today                                                url  \n",
       "228  2021-11-23  https://www.avito.ru//engels/avtomobili/lada_l...  \n",
       "229  2021-11-23  https://www.avito.ru//kursk/avtomobili/mercede...  "
      ]
     },
     "execution_count": 27,
     "metadata": {},
     "output_type": "execute_result"
    }
   ],
   "source": [
    "df.iloc[[228,229]]"
   ]
  },
  {
   "cell_type": "code",
   "execution_count": 28,
   "metadata": {},
   "outputs": [],
   "source": [
    "df.mileage = df.mileage.replace({'км':''}, regex = True)\n",
    "df.mileage = df.mileage.replace({'\\s':''}, regex = True)"
   ]
  },
  {
   "cell_type": "code",
   "execution_count": 29,
   "metadata": {},
   "outputs": [
    {
     "data": {
      "text/html": [
       "<div>\n",
       "<style scoped>\n",
       "    .dataframe tbody tr th:only-of-type {\n",
       "        vertical-align: middle;\n",
       "    }\n",
       "\n",
       "    .dataframe tbody tr th {\n",
       "        vertical-align: top;\n",
       "    }\n",
       "\n",
       "    .dataframe thead th {\n",
       "        text-align: right;\n",
       "    }\n",
       "</style>\n",
       "<table border=\"1\" class=\"dataframe\">\n",
       "  <thead>\n",
       "    <tr style=\"text-align: right;\">\n",
       "      <th></th>\n",
       "      <th>0</th>\n",
       "      <th>1</th>\n",
       "    </tr>\n",
       "  </thead>\n",
       "  <tbody>\n",
       "    <tr>\n",
       "      <th>0</th>\n",
       "      <td>Mitsubishi Lancer</td>\n",
       "      <td>2014</td>\n",
       "    </tr>\n",
       "    <tr>\n",
       "      <th>1</th>\n",
       "      <td>Mazda 3</td>\n",
       "      <td>2008</td>\n",
       "    </tr>\n",
       "    <tr>\n",
       "      <th>2</th>\n",
       "      <td>ВАЗ (LADA) Granta</td>\n",
       "      <td>2020</td>\n",
       "    </tr>\n",
       "  </tbody>\n",
       "</table>\n",
       "</div>"
      ],
      "text/plain": [
       "                   0      1\n",
       "0  Mitsubishi Lancer   2014\n",
       "1            Mazda 3   2008\n",
       "2  ВАЗ (LADA) Granta   2020"
      ]
     },
     "execution_count": 29,
     "metadata": {},
     "output_type": "execute_result"
    }
   ],
   "source": [
    "## split car\n",
    "dd = df.car.str.split(',', expand = True).copy()\n",
    "dd.head(3)"
   ]
  },
  {
   "cell_type": "code",
   "execution_count": 30,
   "metadata": {},
   "outputs": [
    {
     "data": {
      "text/plain": [
       "count                5656\n",
       "unique                495\n",
       "top       Hyundai Solaris\n",
       "freq                  294\n",
       "Name: 0, dtype: object"
      ]
     },
     "execution_count": 30,
     "metadata": {},
     "output_type": "execute_result"
    }
   ],
   "source": [
    "dd.loc[:, 0].describe()"
   ]
  },
  {
   "cell_type": "code",
   "execution_count": 31,
   "metadata": {},
   "outputs": [],
   "source": [
    "df[['car2', 'year']] = df.car.str.split(',', expand = True).copy()\n",
    "df = df.drop(['car'], axis = 1)\n",
    "df.rename(columns = {'car2':'car'}, inplace = True) ## rename just a once column\n",
    "df=df[['car','year','price','mileage','hp', 'vol','box',\n",
    "       'body', 'drive', 'fuel', 'location',  'inform','date','today','url']]"
   ]
  },
  {
   "cell_type": "code",
   "execution_count": 32,
   "metadata": {},
   "outputs": [
    {
     "data": {
      "text/html": [
       "<div>\n",
       "<style scoped>\n",
       "    .dataframe tbody tr th:only-of-type {\n",
       "        vertical-align: middle;\n",
       "    }\n",
       "\n",
       "    .dataframe tbody tr th {\n",
       "        vertical-align: top;\n",
       "    }\n",
       "\n",
       "    .dataframe thead th {\n",
       "        text-align: right;\n",
       "    }\n",
       "</style>\n",
       "<table border=\"1\" class=\"dataframe\">\n",
       "  <thead>\n",
       "    <tr style=\"text-align: right;\">\n",
       "      <th></th>\n",
       "      <th>car</th>\n",
       "      <th>year</th>\n",
       "      <th>price</th>\n",
       "      <th>mileage</th>\n",
       "      <th>hp</th>\n",
       "      <th>vol</th>\n",
       "      <th>box</th>\n",
       "      <th>body</th>\n",
       "      <th>drive</th>\n",
       "      <th>fuel</th>\n",
       "      <th>location</th>\n",
       "      <th>inform</th>\n",
       "      <th>date</th>\n",
       "      <th>today</th>\n",
       "      <th>url</th>\n",
       "    </tr>\n",
       "  </thead>\n",
       "  <tbody>\n",
       "    <tr>\n",
       "      <th>0</th>\n",
       "      <td>Mitsubishi Lancer</td>\n",
       "      <td>2014</td>\n",
       "      <td>650000</td>\n",
       "      <td>100181</td>\n",
       "      <td>140</td>\n",
       "      <td>1.8</td>\n",
       "      <td>CVT</td>\n",
       "      <td>седан</td>\n",
       "      <td>передний</td>\n",
       "      <td>бензин</td>\n",
       "      <td>Москва</td>\n",
       "      <td>Прoдаю надёжный автомобиль в достойнойном тeхн...</td>\n",
       "      <td>Несколько секунд назад</td>\n",
       "      <td>2021-11-23</td>\n",
       "      <td>https://www.avito.ru//moskva/avtomobili/mitsub...</td>\n",
       "    </tr>\n",
       "  </tbody>\n",
       "</table>\n",
       "</div>"
      ],
      "text/plain": [
       "                 car   year   price mileage   hp  vol  box    body      drive  \\\n",
       "0  Mitsubishi Lancer   2014  650000  100181  140  1.8  CVT   седан   передний   \n",
       "\n",
       "      fuel location                                             inform  \\\n",
       "0   бензин   Москва  Прoдаю надёжный автомобиль в достойнойном тeхн...   \n",
       "\n",
       "                     date       today  \\\n",
       "0  Несколько секунд назад  2021-11-23   \n",
       "\n",
       "                                                 url  \n",
       "0  https://www.avito.ru//moskva/avtomobili/mitsub...  "
      ]
     },
     "execution_count": 32,
     "metadata": {},
     "output_type": "execute_result"
    }
   ],
   "source": [
    "df.head(1)"
   ]
  },
  {
   "cell_type": "markdown",
   "metadata": {},
   "source": [
    "## make relevant columns numeric"
   ]
  },
  {
   "cell_type": "code",
   "execution_count": 33,
   "metadata": {},
   "outputs": [],
   "source": [
    "## try without errors = 'coerce', to see what data aberrations you might have\n",
    "## in this case, ValueError: Unable to parse string \"AT\" at position 13\n",
    "## investigate and see where 'AT' is\n",
    "cols = ['year','price','mileage','hp', 'vol']\n",
    "df[cols] = df[cols].apply(pd.to_numeric) "
   ]
  },
  {
   "cell_type": "code",
   "execution_count": null,
   "metadata": {},
   "outputs": [],
   "source": []
  },
  {
   "cell_type": "markdown",
   "metadata": {},
   "source": [
    "### vody, drive fuel, location - change to English (optional)"
   ]
  },
  {
   "cell_type": "code",
   "execution_count": 34,
   "metadata": {},
   "outputs": [
    {
     "data": {
      "text/plain": [
       "array([' передний', ' полный', ' задний'], dtype=object)"
      ]
     },
     "execution_count": 34,
     "metadata": {},
     "output_type": "execute_result"
    }
   ],
   "source": [
    "df.drive.unique()"
   ]
  },
  {
   "cell_type": "code",
   "execution_count": 35,
   "metadata": {},
   "outputs": [],
   "source": [
    "# strip whitespace\n",
    "df.body = df.body.replace({'\\s':''}, regex = True)\n",
    "df.drive = df.drive.replace({'\\s':''}, regex = True)\n",
    "df.fuel = df.fuel.replace({'\\s':''}, regex = True)"
   ]
  },
  {
   "cell_type": "code",
   "execution_count": 36,
   "metadata": {},
   "outputs": [
    {
     "data": {
      "text/plain": [
       "array(['передний', 'полный', 'задний'], dtype=object)"
      ]
     },
     "execution_count": 36,
     "metadata": {},
     "output_type": "execute_result"
    }
   ],
   "source": [
    "df.drive.unique()"
   ]
  },
  {
   "cell_type": "code",
   "execution_count": 37,
   "metadata": {},
   "outputs": [
    {
     "data": {
      "text/plain": [
       "array(['седан', 'хетчбэк', 'фургон', 'внедорожник', 'универсал',\n",
       "       'минивэн', 'пикап', 'микроавтобус', 'купе', 'кабриолет'],\n",
       "      dtype=object)"
      ]
     },
     "execution_count": 37,
     "metadata": {},
     "output_type": "execute_result"
    }
   ],
   "source": [
    "df.body.unique()"
   ]
  },
  {
   "cell_type": "code",
   "execution_count": 42,
   "metadata": {},
   "outputs": [
    {
     "data": {
      "text/plain": [
       "array(['бензин', 'дизель', 'электро', 'гибрид', 'газ'], dtype=object)"
      ]
     },
     "execution_count": 42,
     "metadata": {},
     "output_type": "execute_result"
    }
   ],
   "source": [
    "df.fuel.unique()"
   ]
  },
  {
   "cell_type": "code",
   "execution_count": 39,
   "metadata": {},
   "outputs": [],
   "source": [
    "df = df.replace({'body' : { 'седан' : 'sedan', 'хетчбэк' : 'hatchback', 'фургон' : 'van',\n",
    "                          'внедорожник':'SUV', 'универсал':'station_vagon','минивэн':'mini_van',\n",
    "                          'пикап':'pickup', 'микроавтобус':'minibus','купе':'coupe', 'кабриолет':'convertible'}})\n",
    "df = df.replace({'drive' : { 'передний' : 'front_wheel', 'полный' : 'all_wheel', 'задний' : 'rear_wheel' }})\n",
    "df = df.replace({'fuel' : { 'бензин':'gasoline', 'дизель':'diesel', 'электро':'electric',\n",
    "                           'гибрид':'hybrid','газ':'natural_gas'}})"
   ]
  },
  {
   "cell_type": "code",
   "execution_count": 40,
   "metadata": {},
   "outputs": [
    {
     "data": {
      "text/html": [
       "<div>\n",
       "<style scoped>\n",
       "    .dataframe tbody tr th:only-of-type {\n",
       "        vertical-align: middle;\n",
       "    }\n",
       "\n",
       "    .dataframe tbody tr th {\n",
       "        vertical-align: top;\n",
       "    }\n",
       "\n",
       "    .dataframe thead th {\n",
       "        text-align: right;\n",
       "    }\n",
       "</style>\n",
       "<table border=\"1\" class=\"dataframe\">\n",
       "  <thead>\n",
       "    <tr style=\"text-align: right;\">\n",
       "      <th></th>\n",
       "      <th>car</th>\n",
       "      <th>year</th>\n",
       "      <th>price</th>\n",
       "      <th>mileage</th>\n",
       "      <th>hp</th>\n",
       "      <th>vol</th>\n",
       "      <th>box</th>\n",
       "      <th>body</th>\n",
       "      <th>drive</th>\n",
       "      <th>fuel</th>\n",
       "      <th>location</th>\n",
       "      <th>inform</th>\n",
       "      <th>date</th>\n",
       "      <th>today</th>\n",
       "      <th>url</th>\n",
       "    </tr>\n",
       "  </thead>\n",
       "  <tbody>\n",
       "    <tr>\n",
       "      <th>0</th>\n",
       "      <td>Mitsubishi Lancer</td>\n",
       "      <td>2014</td>\n",
       "      <td>650000</td>\n",
       "      <td>100181</td>\n",
       "      <td>140</td>\n",
       "      <td>1.8</td>\n",
       "      <td>CVT</td>\n",
       "      <td>sedan</td>\n",
       "      <td>front_wheel</td>\n",
       "      <td>gasoline</td>\n",
       "      <td>Москва</td>\n",
       "      <td>Прoдаю надёжный автомобиль в достойнойном тeхн...</td>\n",
       "      <td>Несколько секунд назад</td>\n",
       "      <td>2021-11-23</td>\n",
       "      <td>https://www.avito.ru//moskva/avtomobili/mitsub...</td>\n",
       "    </tr>\n",
       "    <tr>\n",
       "      <th>1</th>\n",
       "      <td>Mazda 3</td>\n",
       "      <td>2008</td>\n",
       "      <td>490000</td>\n",
       "      <td>213000</td>\n",
       "      <td>105</td>\n",
       "      <td>1.6</td>\n",
       "      <td>MT</td>\n",
       "      <td>sedan</td>\n",
       "      <td>front_wheel</td>\n",
       "      <td>gasoline</td>\n",
       "      <td>Свердловская область, Екатеринбург</td>\n",
       "      <td>По кузову имеется один окрас, остальное все в ...</td>\n",
       "      <td>Несколько секунд назад</td>\n",
       "      <td>2021-11-23</td>\n",
       "      <td>https://www.avito.ru//ekaterinburg/avtomobili/...</td>\n",
       "    </tr>\n",
       "    <tr>\n",
       "      <th>2</th>\n",
       "      <td>ВАЗ (LADA) Granta</td>\n",
       "      <td>2020</td>\n",
       "      <td>742000</td>\n",
       "      <td>25600</td>\n",
       "      <td>106</td>\n",
       "      <td>1.6</td>\n",
       "      <td>MT</td>\n",
       "      <td>sedan</td>\n",
       "      <td>front_wheel</td>\n",
       "      <td>gasoline</td>\n",
       "      <td>Свердловская область, Екатеринбург</td>\n",
       "      <td>= Самый большой Автомолл! Более 700 автомобиле...</td>\n",
       "      <td>Несколько секунд назад</td>\n",
       "      <td>2021-11-23</td>\n",
       "      <td>https://www.avito.ru//ekaterinburg/avtomobili/...</td>\n",
       "    </tr>\n",
       "    <tr>\n",
       "      <th>3</th>\n",
       "      <td>Toyota Tank</td>\n",
       "      <td>2018</td>\n",
       "      <td>590000</td>\n",
       "      <td>43000</td>\n",
       "      <td>69</td>\n",
       "      <td>1.0</td>\n",
       "      <td>CVT</td>\n",
       "      <td>hatchback</td>\n",
       "      <td>all_wheel</td>\n",
       "      <td>gasoline</td>\n",
       "      <td>Приморский край, Владивостокский г.о., Владиво...</td>\n",
       "      <td>Автомобиль под заказ из Японии. \\n\\nПробег ука...</td>\n",
       "      <td>Несколько секунд назад</td>\n",
       "      <td>2021-11-23</td>\n",
       "      <td>https://www.avito.ru//vladivostok/avtomobili/t...</td>\n",
       "    </tr>\n",
       "    <tr>\n",
       "      <th>4</th>\n",
       "      <td>Kia Rio</td>\n",
       "      <td>2018</td>\n",
       "      <td>999000</td>\n",
       "      <td>65000</td>\n",
       "      <td>123</td>\n",
       "      <td>1.6</td>\n",
       "      <td>AT</td>\n",
       "      <td>sedan</td>\n",
       "      <td>front_wheel</td>\n",
       "      <td>gasoline</td>\n",
       "      <td>Астраханская область, Астрахань</td>\n",
       "      <td>Автомобиль в отличном состоянии, вложений не т...</td>\n",
       "      <td>Несколько секунд назад</td>\n",
       "      <td>2021-11-23</td>\n",
       "      <td>https://www.avito.ru//astrahan/avtomobili/kia_...</td>\n",
       "    </tr>\n",
       "  </tbody>\n",
       "</table>\n",
       "</div>"
      ],
      "text/plain": [
       "                 car  year   price  mileage   hp  vol  box       body  \\\n",
       "0  Mitsubishi Lancer  2014  650000   100181  140  1.8  CVT      sedan   \n",
       "1            Mazda 3  2008  490000   213000  105  1.6   MT      sedan   \n",
       "2  ВАЗ (LADA) Granta  2020  742000    25600  106  1.6   MT      sedan   \n",
       "3        Toyota Tank  2018  590000    43000   69  1.0  CVT  hatchback   \n",
       "4            Kia Rio  2018  999000    65000  123  1.6   AT      sedan   \n",
       "\n",
       "         drive      fuel                                           location  \\\n",
       "0  front_wheel  gasoline                                             Москва   \n",
       "1  front_wheel  gasoline                 Свердловская область, Екатеринбург   \n",
       "2  front_wheel  gasoline                 Свердловская область, Екатеринбург   \n",
       "3    all_wheel  gasoline  Приморский край, Владивостокский г.о., Владиво...   \n",
       "4  front_wheel  gasoline                    Астраханская область, Астрахань   \n",
       "\n",
       "                                              inform                    date  \\\n",
       "0  Прoдаю надёжный автомобиль в достойнойном тeхн...  Несколько секунд назад   \n",
       "1  По кузову имеется один окрас, остальное все в ...  Несколько секунд назад   \n",
       "2  = Самый большой Автомолл! Более 700 автомобиле...  Несколько секунд назад   \n",
       "3  Автомобиль под заказ из Японии. \\n\\nПробег ука...  Несколько секунд назад   \n",
       "4  Автомобиль в отличном состоянии, вложений не т...  Несколько секунд назад   \n",
       "\n",
       "        today                                                url  \n",
       "0  2021-11-23  https://www.avito.ru//moskva/avtomobili/mitsub...  \n",
       "1  2021-11-23  https://www.avito.ru//ekaterinburg/avtomobili/...  \n",
       "2  2021-11-23  https://www.avito.ru//ekaterinburg/avtomobili/...  \n",
       "3  2021-11-23  https://www.avito.ru//vladivostok/avtomobili/t...  \n",
       "4  2021-11-23  https://www.avito.ru//astrahan/avtomobili/kia_...  "
      ]
     },
     "execution_count": 40,
     "metadata": {},
     "output_type": "execute_result"
    }
   ],
   "source": [
    "df.head()"
   ]
  },
  {
   "cell_type": "code",
   "execution_count": null,
   "metadata": {},
   "outputs": [],
   "source": []
  },
  {
   "cell_type": "markdown",
   "metadata": {},
   "source": [
    "### save results"
   ]
  },
  {
   "cell_type": "code",
   "execution_count": 41,
   "metadata": {},
   "outputs": [],
   "source": [
    "df.to_csv('cleaned_avito_cars_450-1m.csv')"
   ]
  },
  {
   "cell_type": "code",
   "execution_count": null,
   "metadata": {},
   "outputs": [],
   "source": []
  }
 ],
 "metadata": {
  "kernelspec": {
   "display_name": "Python 3 (ipykernel)",
   "language": "python",
   "name": "python3"
  },
  "language_info": {
   "codemirror_mode": {
    "name": "ipython",
    "version": 3
   },
   "file_extension": ".py",
   "mimetype": "text/x-python",
   "name": "python",
   "nbconvert_exporter": "python",
   "pygments_lexer": "ipython3",
   "version": "3.8.12"
  }
 },
 "nbformat": 4,
 "nbformat_minor": 4
}
